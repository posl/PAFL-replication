{
 "cells": [
  {
   "cell_type": "code",
   "execution_count": 1,
   "metadata": {},
   "outputs": [],
   "source": [
    "import os\n",
    "import sys, glob\n",
    "import argparse\n",
    "# 異なる階層のutilsをインポートするために必要\n",
    "sys.path.append(\"../\")\n",
    "import numpy as np\n",
    "import math\n",
    "import re\n",
    "import random\n",
    "from collections import defaultdict\n",
    "# 異なる階層のutilsからインポート\n",
    "from utils.constant import *\n",
    "from utils.help_func import load_pickle, save_pickle, load_json, save_json\n",
    "# 異なる階層のmodel_utilsからインポート\n",
    "from model_utils.model_util import load_model, sent2tensor\n",
    "from model_utils import train_args\n"
   ]
  },
  {
   "cell_type": "code",
   "execution_count": 36,
   "metadata": {},
   "outputs": [
    {
     "name": "stdout",
     "output_type": "stream",
     "text": [
      "saved in ./artifacts/pafl_res_fortest/boot_0/ochiai_pafl_res.csv\n",
      "saved in ./artifacts/pafl_res_fortest/boot_0/tarantula_pafl_res.csv\n",
      "saved in ./artifacts/pafl_res_fortest/boot_0/dstar_pafl_res.csv\n",
      "saved in ./artifacts/pafl_res_fortest/boot_0/ochiai2_pafl_res.csv\n",
      "saved in ./artifacts/pafl_res_fortest/boot_0/ample_pafl_res.csv\n",
      "saved in ./artifacts/pafl_res_fortest/boot_1/ochiai_pafl_res.csv\n",
      "saved in ./artifacts/pafl_res_fortest/boot_1/tarantula_pafl_res.csv\n",
      "saved in ./artifacts/pafl_res_fortest/boot_1/dstar_pafl_res.csv\n",
      "saved in ./artifacts/pafl_res_fortest/boot_1/ochiai2_pafl_res.csv\n",
      "saved in ./artifacts/pafl_res_fortest/boot_1/ample_pafl_res.csv\n"
     ]
    },
    {
     "name": "stderr",
     "output_type": "stream",
     "text": [
      "/tmp/ipykernel_1618/137053920.py:29: RuntimeWarning: All-NaN slice encountered\n",
      "  dataset_res_k_aggregated = np.nanmin(dataset_res, axis=0)\n",
      "/tmp/ipykernel_1618/137053920.py:33: RuntimeWarning: All-NaN slice encountered\n",
      "  pafl_res_aggregated = np.nanmin(dataset_res_per_n, axis=0)\n"
     ]
    },
    {
     "name": "stdout",
     "output_type": "stream",
     "text": [
      "saved in ./artifacts/pafl_res_fortest/boot_2/ochiai_pafl_res.csv\n",
      "saved in ./artifacts/pafl_res_fortest/boot_2/tarantula_pafl_res.csv\n",
      "saved in ./artifacts/pafl_res_fortest/boot_2/dstar_pafl_res.csv\n",
      "saved in ./artifacts/pafl_res_fortest/boot_2/ochiai2_pafl_res.csv\n",
      "saved in ./artifacts/pafl_res_fortest/boot_2/ample_pafl_res.csv\n",
      "saved in ./artifacts/pafl_res_fortest/boot_3/ochiai_pafl_res.csv\n",
      "saved in ./artifacts/pafl_res_fortest/boot_3/tarantula_pafl_res.csv\n",
      "saved in ./artifacts/pafl_res_fortest/boot_3/dstar_pafl_res.csv\n",
      "saved in ./artifacts/pafl_res_fortest/boot_3/ochiai2_pafl_res.csv\n",
      "saved in ./artifacts/pafl_res_fortest/boot_3/ample_pafl_res.csv\n",
      "saved in ./artifacts/pafl_res_fortest/boot_4/ochiai_pafl_res.csv\n",
      "saved in ./artifacts/pafl_res_fortest/boot_4/tarantula_pafl_res.csv\n",
      "saved in ./artifacts/pafl_res_fortest/boot_4/dstar_pafl_res.csv\n",
      "saved in ./artifacts/pafl_res_fortest/boot_4/ochiai2_pafl_res.csv\n",
      "saved in ./artifacts/pafl_res_fortest/boot_4/ample_pafl_res.csv\n",
      "saved in ./artifacts/pafl_res_fortest/boot_5/ochiai_pafl_res.csv\n",
      "saved in ./artifacts/pafl_res_fortest/boot_5/tarantula_pafl_res.csv\n",
      "saved in ./artifacts/pafl_res_fortest/boot_5/dstar_pafl_res.csv\n",
      "saved in ./artifacts/pafl_res_fortest/boot_5/ochiai2_pafl_res.csv\n",
      "saved in ./artifacts/pafl_res_fortest/boot_5/ample_pafl_res.csv\n",
      "saved in ./artifacts/pafl_res_fortest/boot_6/ochiai_pafl_res.csv\n",
      "saved in ./artifacts/pafl_res_fortest/boot_6/tarantula_pafl_res.csv\n",
      "saved in ./artifacts/pafl_res_fortest/boot_6/dstar_pafl_res.csv\n",
      "saved in ./artifacts/pafl_res_fortest/boot_6/ochiai2_pafl_res.csv\n",
      "saved in ./artifacts/pafl_res_fortest/boot_6/ample_pafl_res.csv\n",
      "saved in ./artifacts/pafl_res_fortest/boot_7/ochiai_pafl_res.csv\n",
      "saved in ./artifacts/pafl_res_fortest/boot_7/tarantula_pafl_res.csv\n",
      "saved in ./artifacts/pafl_res_fortest/boot_7/dstar_pafl_res.csv\n",
      "saved in ./artifacts/pafl_res_fortest/boot_7/ochiai2_pafl_res.csv\n",
      "saved in ./artifacts/pafl_res_fortest/boot_7/ample_pafl_res.csv\n",
      "saved in ./artifacts/pafl_res_fortest/boot_8/ochiai_pafl_res.csv\n",
      "saved in ./artifacts/pafl_res_fortest/boot_8/tarantula_pafl_res.csv\n",
      "saved in ./artifacts/pafl_res_fortest/boot_8/dstar_pafl_res.csv\n",
      "saved in ./artifacts/pafl_res_fortest/boot_8/ochiai2_pafl_res.csv\n",
      "saved in ./artifacts/pafl_res_fortest/boot_8/ample_pafl_res.csv\n",
      "saved in ./artifacts/pafl_res_fortest/boot_9/ochiai_pafl_res.csv\n",
      "saved in ./artifacts/pafl_res_fortest/boot_9/tarantula_pafl_res.csv\n",
      "saved in ./artifacts/pafl_res_fortest/boot_9/dstar_pafl_res.csv\n",
      "saved in ./artifacts/pafl_res_fortest/boot_9/ochiai2_pafl_res.csv\n",
      "saved in ./artifacts/pafl_res_fortest/boot_9/ample_pafl_res.csv\n"
     ]
    }
   ],
   "source": [
    "B = 10\n",
    "variants = ['srnn', 'gru', 'lstm']\n",
    "thetas = [10, 50]\n",
    "method_names = ['ochiai', 'tarantula', 'dstar', 'ochiai2', 'ample']\n",
    "num_dataset = 8\n",
    "k_list, n_list = list(range(2, 12, 2)), list(range(1, 6, 1))\n",
    "num_k, num_n = len(k_list), len(n_list)\n",
    "\n",
    "for bi in range(B):\n",
    "  for method in method_names:\n",
    "    save_path = f'./artifacts/pafl_res_fortest/boot_{bi}/{method}_pafl_res.csv'\n",
    "    res_list = []\n",
    "    for model_type in variants:\n",
    "      for theta in thetas:      \n",
    "        dataset_res_per_n = np.zeros((num_n, num_dataset, 6))\n",
    "        for ni, n in enumerate(n_list):\n",
    "          load_path = get_path(f'data/extracted_data/{model_type}/pred_table_for_look/{method}/boot_{bi}/n={n}_theta={theta}.csv')\n",
    "          pafl_res = np.genfromtxt(load_path, delimiter=',', dtype='float')[1:, 2:]\n",
    "          pafl_res_ex = pafl_res[:,::2].astype(np.float32) # loadした直後のshape: (40, 12)を[:,::2]で(40, 6)にする(ランダムのを落とすため)\n",
    "          # boot_iのファイルではmnist->toxicの順版になってるのでこれを入れ替える\n",
    "          # そのために，pafl_res_exの25-32行目と33-40行目を入れ替える\n",
    "          order  = list(range(24)) +  list(range(32, 40)) + list(range(24, 32))\n",
    "          pafl_res_ex = pafl_res_ex[order, :]\n",
    "          for dataset_id, i in enumerate(range(0, num_dataset*num_k, num_k)):\n",
    "            dataset_res = pafl_res_ex[i:i+num_k, :]\n",
    "            # print(dataset_res.shape) #(num_k, 6)\n",
    "            dataset_res = np.where(dataset_res < 0, np.nan, dataset_res)\n",
    "            # theta, n, datasetを固定したときの全k(5通り)の中の最小値を取る\n",
    "            dataset_res_k_aggregated = np.nanmin(dataset_res, axis=0)\n",
    "            # print(dataset_res_k_aggregated.shape) #(6, )\n",
    "            dataset_res_per_n[ni][dataset_id] = dataset_res_k_aggregated\n",
    "        # theta,datasetを固定したときの全n, kの中の最小値を取る\n",
    "        pafl_res_aggregated = np.nanmin(dataset_res_per_n, axis=0)\n",
    "        # print(pafl_res_aggregated.shape) # (8, 6) = (#datasets, #metrics)\n",
    "        res_list.append(pafl_res_aggregated)\n",
    "    # print(len(res_list)) # 6(=2*3), 6つの各要素が(8,6)の配列\n",
    "    res_arr = np.concatenate(res_list)\n",
    "    # print(res_arr.shape) # (48, 6)\n",
    "    # 保存パスを指定して保存\n",
    "    os.makedirs(os.path.dirname(save_path), exist_ok=True)\n",
    "    np.savetxt(save_path, res_arr, delimiter=',', fmt='%.3f')\n",
    "    print(f'saved in {save_path}')"
   ]
  },
  {
   "cell_type": "code",
   "execution_count": null,
   "metadata": {},
   "outputs": [],
   "source": []
  }
 ],
 "metadata": {
  "kernelspec": {
   "display_name": "Python 3.9.12 64-bit ('base': conda)",
   "name": "python3912jvsc74a57bd0ead85409a3df2736fa4852a03cf3afe7e5b1dbdc0e40d7d22bbcbf8cf1adf5fa"
  },
  "language_info": {
   "codemirror_mode": {
    "name": "ipython",
    "version": 3
   },
   "file_extension": ".py",
   "mimetype": "text/x-python",
   "name": "python",
   "nbconvert_exporter": "python",
   "pygments_lexer": "ipython3",
   "version": "3.9.12"
  },
  "orig_nbformat": 2
 },
 "nbformat": 4,
 "nbformat_minor": 2
}