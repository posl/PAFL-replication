{
 "cells": [
  {
   "cell_type": "code",
   "execution_count": 1,
   "metadata": {},
   "outputs": [],
   "source": [
    "import os\n",
    "import sys, glob\n",
    "import argparse\n",
    "# 異なる階層のutilsをインポートするために必要\n",
    "sys.path.append(\"../\")\n",
    "import numpy as np\n",
    "import math\n",
    "import re\n",
    "import random\n",
    "from collections import defaultdict\n",
    "# 異なる階層のutilsからインポート\n",
    "from utils.constant import *\n",
    "from utils.help_func import load_pickle, save_pickle, load_json, save_json\n",
    "# 異なる階層のmodel_utilsからインポート\n",
    "from model_utils.model_util import load_model, sent2tensor\n",
    "from model_utils import train_args\n"
   ]
  },
  {
   "cell_type": "code",
   "execution_count": 2,
   "metadata": {},
   "outputs": [],
   "source": [
    "B = 10\n",
    "variants = ['srnn', 'gru', 'lstm']\n",
    "thetas = [10, 50]\n",
    "method_names = ['ochiai', 'tarantula', 'dstar', 'ochiai2', 'ample']\n",
    "num_dataset = 8"
   ]
  },
  {
   "cell_type": "code",
   "execution_count": 18,
   "metadata": {},
   "outputs": [
    {
     "name": "stdout",
     "output_type": "stream",
     "text": [
      "saved in ./artifacts/rnnrepair_res_fortest/boot_0_res.csv\n",
      "saved in ./artifacts/rnnrepair_res_fortest/boot_1_res.csv\n",
      "saved in ./artifacts/rnnrepair_res_fortest/boot_2_res.csv\n",
      "saved in ./artifacts/rnnrepair_res_fortest/boot_3_res.csv\n",
      "saved in ./artifacts/rnnrepair_res_fortest/boot_4_res.csv\n",
      "saved in ./artifacts/rnnrepair_res_fortest/boot_5_res.csv\n",
      "saved in ./artifacts/rnnrepair_res_fortest/boot_6_res.csv\n",
      "saved in ./artifacts/rnnrepair_res_fortest/boot_7_res.csv\n",
      "saved in ./artifacts/rnnrepair_res_fortest/boot_8_res.csv\n",
      "saved in ./artifacts/rnnrepair_res_fortest/boot_9_res.csv\n"
     ]
    }
   ],
   "source": [
    "\n",
    "for i in range(B):\n",
    "  save_path = f'./artifacts/rnnrepair_res_fortest/boot_{i}_res.csv'\n",
    "  res_list = []\n",
    "  for model_type in variants:\n",
    "    for theta in thetas:\n",
    "      rnnrepair_path = f'./artifacts/{model_type}/pred_result_for_look/theta={theta}/boot_{i}.csv'\n",
    "      rnnrepair_res = np.genfromtxt(rnnrepair_path, delimiter=',', dtype='float').astype(np.float32)\n",
    "      res_list.append(rnnrepair_res)\n",
    "  res_arr = np.concatenate(res_list)\n",
    "  os.makedirs(os.path.dirname(save_path), exist_ok=True)\n",
    "  np.savetxt(save_path, res_arr, delimiter=',', fmt='%.3f')\n",
    "  print(f'saved in {save_path}')"
   ]
  }
 ],
 "metadata": {
  "language_info": {
   "name": "python",
   "nbconvert_exporter": "python"
  },
  "orig_nbformat": 2
 },
 "nbformat": 4,
 "nbformat_minor": 2
}